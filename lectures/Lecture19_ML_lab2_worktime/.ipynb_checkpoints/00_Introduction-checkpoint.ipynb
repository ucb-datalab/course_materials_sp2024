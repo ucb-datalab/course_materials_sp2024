{
 "cells": [
  {
   "cell_type": "code",
   "execution_count": 3,
   "metadata": {},
   "outputs": [
    {
     "data": {
      "text/html": [
       "\n",
       "<script src=\"https://stackpath.bootstrapcdn.com/bootstrap/4.3.1/js/bootstrap.min.js\" integrity=\"sha384-JjSmVgyd0p3pXB1rRibZUAYoIIy6OrQ6VrjIEaFf/nJGzIxFDsf4x0xIM+B07jRM\" crossorigin=\"anonymous\"></script>\n",
       "\n",
       "<style>\n",
       "\n",
       "@import url(https://fonts.googleapis.com/css?family=Open+Sans);body{\n",
       "   font-family: 'Open Sans';\n",
       "   font-size: 125%;\n",
       "}\n",
       "\n",
       ".talk_title\n",
       "{\n",
       "  color: #498AF3;\n",
       "  font-size: 275%;\n",
       "  font-weight:bold;\n",
       "  line-height: 1.3; \n",
       "  margin: 10px 50px 10px;\n",
       "  }\n",
       "\n",
       ".subtitle\n",
       "{\n",
       "  color: #386BBC;\n",
       "  font-size: 180%;\n",
       "  font-weight:bold;\n",
       "  line-height: 1.2; \n",
       "  margin: 20px 50px 20px;\n",
       "  }\n",
       "\n",
       ".rendered_html h1\n",
       "{\n",
       "  color: #498AF3;\n",
       "  line-height: 1.2; \n",
       "  margin: 0.15em 0em 0.5em;\n",
       "  page-break-before: always;\n",
       "  text-align: center;\n",
       "  }\n",
       "\n",
       "\n",
       ".center\n",
       "{\n",
       "  text-align: center;\n",
       "  }\n",
       "\n",
       ".nb_link\n",
       "{\n",
       "    padding-bottom: 0.5em;\n",
       "}\n",
       "\n",
       "</style>"
      ],
      "text/plain": [
       "<IPython.core.display.HTML object>"
      ]
     },
     "metadata": {},
     "output_type": "display_data"
    }
   ],
   "source": [
    "%run ../talktools.py"
   ]
  },
  {
   "cell_type": "markdown",
   "metadata": {},
   "source": [
    "# Meeting/Lecture 19 - April 2\n",
    "\n",
    "## Office Hours\n",
    "\n",
    "* Dan: Tuesday 3:30-4:30pm in 355 Campbell\n",
    "* TALC: Wednesday 2-4pm in 131 Campbell\n",
    "* Anna: Friday 10:30-11:30am in 219 Campbell \n",
    "* As always, by appointment -- please email us to set up a time\n",
    "\n",
    "## Agenda\n",
    "\n",
    "* Introduction (this notebook, *00_Introduction*)\n",
    "* Work/question time\n",
    "\n",
    "\n",
    "## Lab 2\n",
    "* Checkpoint 3 due today 4/2 by 11:59pm\n",
    "* Lab report due Thursday 4/4 by 11:59pm\n",
    "\n",
    "\n",
    "## Lab 3\n",
    "* Released this week after spring break\n",
    "* Galaxy classification and mergers, machine learning, neural nets, etc.\n",
    "* Overview in Lecture on Thursday\n",
    "* 3 checkpoints\n",
    "* Due by Friday 5/3 11:59pm (no extensions possible -- following week is finals week)\n",
    "* Relevant ML lectures will be recorded and posted online -- lecture time mainly for working, questions, etc.\n",
    "* Dan will be away next week (4/8-4/15); lecture times will be extra TALC/office hour sessions with GSIs\n",
    "\n",
    "## Getting these notebooks \n",
    "```bash\n",
    "git clone https://github.com/ucb-datalab/course_materials_2024.git\n",
    "cd course_materials_2024\n",
    "jupyter notebook\n",
    "```"
   ]
  },
  {
   "cell_type": "code",
   "execution_count": null,
   "metadata": {},
   "outputs": [],
   "source": []
  }
 ],
 "metadata": {
  "kernelspec": {
   "display_name": "Python 3",
   "language": "python",
   "name": "python3"
  },
  "language_info": {
   "codemirror_mode": {
    "name": "ipython",
    "version": 3
   },
   "file_extension": ".py",
   "mimetype": "text/x-python",
   "name": "python",
   "nbconvert_exporter": "python",
   "pygments_lexer": "ipython3",
   "version": "3.8.8"
  }
 },
 "nbformat": 4,
 "nbformat_minor": 4
}
