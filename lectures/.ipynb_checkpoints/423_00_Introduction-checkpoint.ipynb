{
 "cells": [
  {
   "cell_type": "code",
   "execution_count": 2,
   "metadata": {},
   "outputs": [
    {
     "data": {
      "text/html": [
       "\n",
       "<script src=\"https://stackpath.bootstrapcdn.com/bootstrap/4.3.1/js/bootstrap.min.js\" integrity=\"sha384-JjSmVgyd0p3pXB1rRibZUAYoIIy6OrQ6VrjIEaFf/nJGzIxFDsf4x0xIM+B07jRM\" crossorigin=\"anonymous\"></script>\n",
       "\n",
       "<style>\n",
       "\n",
       "@import url(https://fonts.googleapis.com/css?family=Open+Sans);body{\n",
       "   font-family: 'Open Sans';\n",
       "   font-size: 125%;\n",
       "}\n",
       "\n",
       ".talk_title\n",
       "{\n",
       "  color: #498AF3;\n",
       "  font-size: 275%;\n",
       "  font-weight:bold;\n",
       "  line-height: 1.3; \n",
       "  margin: 10px 50px 10px;\n",
       "  }\n",
       "\n",
       ".subtitle\n",
       "{\n",
       "  color: #386BBC;\n",
       "  font-size: 180%;\n",
       "  font-weight:bold;\n",
       "  line-height: 1.2; \n",
       "  margin: 20px 50px 20px;\n",
       "  }\n",
       "\n",
       ".rendered_html h1\n",
       "{\n",
       "  color: #498AF3;\n",
       "  line-height: 1.2; \n",
       "  margin: 0.15em 0em 0.5em;\n",
       "  page-break-before: always;\n",
       "  text-align: center;\n",
       "  }\n",
       "\n",
       "\n",
       ".center\n",
       "{\n",
       "  text-align: center;\n",
       "  }\n",
       "\n",
       ".nb_link\n",
       "{\n",
       "    padding-bottom: 0.5em;\n",
       "}\n",
       "\n",
       "</style>"
      ],
      "text/plain": [
       "<IPython.core.display.HTML object>"
      ]
     },
     "metadata": {},
     "output_type": "display_data"
    }
   ],
   "source": [
    "%run talktools.py"
   ]
  },
  {
   "cell_type": "markdown",
   "metadata": {},
   "source": [
    "# April 23\n",
    "\n",
    "## Agenda\n",
    "\n",
    "* Introduction (this notebook, *00_Introduction*)\n",
    "* Lab 2 feedback\n",
    "* Work/question time\n",
    "\n",
    "## Office Hours\n",
    "\n",
    "* Dan: Tuesday 3:30-4:30pm in 355 Campbell\n",
    "* TALC: Wednesday 2-4pm in 131 Campbell\n",
    "* Anna: Friday 10:30-11:30am in 219 Campbell \n",
    "* As always, by appointment -- please email us to set up a time\n",
    "\n",
    "\n",
    "## Office Hours during Reading Week\n",
    "\n",
    "* Anna: Monday 2:30-3:30pm in 355 Campbell\n",
    "* Dan: Tuesday 2-3pm in 131 Campbell\n",
    "* TALC: Wednesday 2-4pm in 131 Campbell\n",
    "* Oliva: Friday 10:30-11:30am in 219 Campbell \n",
    "\n",
    "## Due dates\n",
    "* Lab 3 checkpoint 2 due by 11:59pm on Tuesday 4/23\n",
    "* Lab 3 checkpoint 3 due by 11:59pm on Tuesday 4/30\n",
    "* Lab 3 full report due by 11:59pm on Friday May 3rd \n",
    "* Late labs due by 11:59pm on Friday May 3rd\n",
    "\n",
    "## Course Evals\n",
    "* Currently 9/23 submitted (39%)\n",
    "* Target >= 18 people (80%)\n",
    " - 1 percentage point of extra credit\n",
    "\n",
    "## Feedback on Lab 2\n",
    "\n",
    "* Scores posted to bCourses\n",
    "* People did well!\n",
    " - $\\mu=87$, median$=90$, $\\sigma=13$\n",
    "* Feedback\n",
    " - Q11: In several cases, the Kiel diagrams were not being interpreted correctly.  There seemed to be some confusion over the axes and how they mapped to stellar features.\n",
    " - Q2 asked you to compute logg for 3 different stellar evolution points by hand. Answers greatly varied for this (e.g., SI units, no reference to radius)\n",
    " - Plotting: [Rainbow colormaps](https://www.scientificamerican.com/article/end-of-the-rainbow-new-map-scale-is-more-readable-by-people-who-are-color-blind/)\n",
    " - Mapping absoprtion lines to spectral features (spectra are in air, line lists are reported in vaccuum; [discussion here](https://www.astro.uu.se/valdwiki/Air-to-vacuum%20conversion#:~:text=The%20conversion%20is%20then%3A%20λ,Opt.))\n",
    " - Some models didn't show that their predicted spectra varied with metallicity...not clear why from write ups\n",
    "\n",
    "\n",
    "## Getting these notebooks \n",
    "```bash\n",
    "git clone https://github.com/ucb-datalab/course_materials_2024.git\n",
    "cd course_materials_2024\n",
    "jupyter notebook\n",
    "```"
   ]
  },
  {
   "cell_type": "code",
   "execution_count": null,
   "metadata": {},
   "outputs": [],
   "source": []
  }
 ],
 "metadata": {
  "kernelspec": {
   "display_name": "Python 3",
   "language": "python",
   "name": "python3"
  },
  "language_info": {
   "codemirror_mode": {
    "name": "ipython",
    "version": 3
   },
   "file_extension": ".py",
   "mimetype": "text/x-python",
   "name": "python",
   "nbconvert_exporter": "python",
   "pygments_lexer": "ipython3",
   "version": "3.8.8"
  }
 },
 "nbformat": 4,
 "nbformat_minor": 4
}
