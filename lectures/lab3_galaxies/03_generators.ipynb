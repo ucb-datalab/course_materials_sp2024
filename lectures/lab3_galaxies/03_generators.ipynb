{
 "cells": [
  {
   "cell_type": "code",
   "execution_count": 1,
   "id": "53311dcd",
   "metadata": {},
   "outputs": [
    {
     "data": {
      "text/html": [
       "\n",
       "<script src=\"https://stackpath.bootstrapcdn.com/bootstrap/4.3.1/js/bootstrap.min.js\" integrity=\"sha384-JjSmVgyd0p3pXB1rRibZUAYoIIy6OrQ6VrjIEaFf/nJGzIxFDsf4x0xIM+B07jRM\" crossorigin=\"anonymous\"></script>\n",
       "\n",
       "<style>\n",
       "\n",
       "@import url(https://fonts.googleapis.com/css?family=Open+Sans);body{\n",
       "   font-family: 'Open Sans';\n",
       "   font-size: 125%;\n",
       "}\n",
       "\n",
       ".talk_title\n",
       "{\n",
       "  color: #498AF3;\n",
       "  font-size: 275%;\n",
       "  font-weight:bold;\n",
       "  line-height: 1.3; \n",
       "  margin: 10px 50px 10px;\n",
       "  }\n",
       "\n",
       ".subtitle\n",
       "{\n",
       "  color: #386BBC;\n",
       "  font-size: 180%;\n",
       "  font-weight:bold;\n",
       "  line-height: 1.2; \n",
       "  margin: 20px 50px 20px;\n",
       "  }\n",
       "\n",
       ".rendered_html h1\n",
       "{\n",
       "  color: #498AF3;\n",
       "  line-height: 1.2; \n",
       "  margin: 0.15em 0em 0.5em;\n",
       "  page-break-before: always;\n",
       "  text-align: center;\n",
       "  }\n",
       "\n",
       "\n",
       ".center\n",
       "{\n",
       "  text-align: center;\n",
       "  }\n",
       "\n",
       ".nb_link\n",
       "{\n",
       "    padding-bottom: 0.5em;\n",
       "}\n",
       "\n",
       "</style>"
      ],
      "text/plain": [
       "<IPython.core.display.HTML object>"
      ]
     },
     "metadata": {},
     "output_type": "display_data"
    }
   ],
   "source": [
    "%run ../talktools.py"
   ]
  },
  {
   "cell_type": "markdown",
   "id": "8ef946b4-6367-40f1-a9c7-0fa22ed62f07",
   "metadata": {},
   "source": [
    "# Python Generators\n",
    "\n",
    "Walking through examples from \n",
    "https://realpython.com/introduction-to-python-generators/"
   ]
  },
  {
   "cell_type": "markdown",
   "id": "9dd07cb5",
   "metadata": {},
   "source": [
    "You can use python's $\\texttt{range}$ command to generate a finite sequence of numbers"
   ]
  },
  {
   "cell_type": "code",
   "execution_count": 3,
   "id": "b15dc384-4fcd-4f56-b316-fd13f79a1748",
   "metadata": {},
   "outputs": [
    {
     "name": "stdout",
     "output_type": "stream",
     "text": [
      "range(0, 5)\n"
     ]
    },
    {
     "data": {
      "text/plain": [
       "[0, 1, 2, 3, 4]"
      ]
     },
     "execution_count": 3,
     "metadata": {},
     "output_type": "execute_result"
    }
   ],
   "source": [
    "a = range(5)\n",
    "print(a)\n",
    "list(a)"
   ]
  },
  {
   "cell_type": "markdown",
   "id": "f63e9250",
   "metadata": {},
   "source": [
    "But suppose you want to generate an infinite sequence.  The $\\texttt{range}$ approach from above doesn't work, becuase you'll eventually run out of memory.  Fortunately, this is where a generator can come in handy.  Here's an example:"
   ]
  },
  {
   "cell_type": "code",
   "execution_count": 4,
   "id": "23f76736-b598-4945-9039-e9c76f7ed7c5",
   "metadata": {},
   "outputs": [],
   "source": [
    "def infinite_sequence():\n",
    "    num = 0\n",
    "    while True:\n",
    "        yield num\n",
    "        num += 1"
   ]
  },
  {
   "cell_type": "markdown",
   "id": "39ee4c9e",
   "metadata": {},
   "source": [
    "This function looks exactly as you might expect.  It has a while loop that is always $\\texttt{True}$ and will print out numbers until it no longer can.  The difference is the use of $\\texttt{yield}$ instead of 'return'.  $\\texttt{yield}$ is what makes this a function a generator.  $\\texttt{return}$ holds elements in memory, whereas $\\texttt{yield}$ keeps just enough information to generate the next elements in a sequence so it knows what to do next, without keeping all information in memory.  $\\textbf{If a function contains a $\\texttt{yield}$ statement, it automatically becomes a generator function.}$\n",
    "\n",
    "Let's put our simple generator into practice.  Let's first definte a iterator called y.  This will keep track of our generator output."
   ]
  },
  {
   "cell_type": "code",
   "execution_count": 5,
   "id": "7b5d68ed-7b54-4f46-bf0a-4ac32a10a9cd",
   "metadata": {},
   "outputs": [],
   "source": [
    "y = infinite_sequence()"
   ]
  },
  {
   "cell_type": "markdown",
   "id": "f7348fc5",
   "metadata": {},
   "source": [
    "Then we can use python's $\\texttt{next}$ feature to print the next element in the iterator.  We can ever insert the iterator into a loop and print out many values from our generator."
   ]
  },
  {
   "cell_type": "code",
   "execution_count": 6,
   "id": "85ffbfb3-721b-422a-abf9-ac83f30cee61",
   "metadata": {},
   "outputs": [
    {
     "data": {
      "text/plain": [
       "0"
      ]
     },
     "execution_count": 6,
     "metadata": {},
     "output_type": "execute_result"
    }
   ],
   "source": [
    "next(y)"
   ]
  },
  {
   "cell_type": "code",
   "execution_count": 7,
   "id": "f0223b9e-985d-4d1d-a56e-adb3f8c50cc5",
   "metadata": {},
   "outputs": [
    {
     "data": {
      "text/plain": [
       "1"
      ]
     },
     "execution_count": 7,
     "metadata": {},
     "output_type": "execute_result"
    }
   ],
   "source": [
    "next(y)"
   ]
  },
  {
   "cell_type": "code",
   "execution_count": 8,
   "id": "2fb1b40b-90e9-445a-a667-cad67f1d4c5c",
   "metadata": {},
   "outputs": [
    {
     "name": "stdout",
     "output_type": "stream",
     "text": [
      "2 3 4 5 6 7 8 9 10 11 12 13 14 15 16 17 18 19 20 21 22 23 24 25 26 27 28 29 30 31 32 33 34 35 36 37 38 39 40 41 42 43 44 45 46 47 48 49 50 51 "
     ]
    }
   ],
   "source": [
    "for i in range(50):\n",
    "    print(next(y), end=\" \")"
   ]
  },
  {
   "cell_type": "markdown",
   "id": "8975823c",
   "metadata": {},
   "source": [
    "If you try to apply $\\texttt{next}$ directly to our function, it returns nothing.  That's because an iterator, in our case y, needs to be assigned for these operations to work.  You can see below what happens when we apply next to y and y directly to our function.  "
   ]
  },
  {
   "cell_type": "code",
   "execution_count": 9,
   "id": "55a5bd22-3340-4fb3-a99f-43a56f4e0f16",
   "metadata": {},
   "outputs": [
    {
     "data": {
      "text/plain": [
       "0"
      ]
     },
     "execution_count": 9,
     "metadata": {},
     "output_type": "execute_result"
    }
   ],
   "source": [
    "next(infinite_sequence())"
   ]
  },
  {
   "cell_type": "code",
   "execution_count": 10,
   "id": "d2918738-8b67-4e1f-bd07-ca7633652634",
   "metadata": {},
   "outputs": [
    {
     "data": {
      "text/plain": [
       "52"
      ]
     },
     "execution_count": 10,
     "metadata": {},
     "output_type": "execute_result"
    }
   ],
   "source": [
    "next(y)"
   ]
  },
  {
   "cell_type": "code",
   "execution_count": 11,
   "id": "eb379031-2a5f-40f1-a00f-921edffad736",
   "metadata": {},
   "outputs": [],
   "source": [
    "z = infinite_sequence()"
   ]
  },
  {
   "cell_type": "code",
   "execution_count": 12,
   "id": "e6743ecc-eb4b-43c9-a176-fd65bc5c14f1",
   "metadata": {},
   "outputs": [
    {
     "data": {
      "text/plain": [
       "0"
      ]
     },
     "execution_count": 12,
     "metadata": {},
     "output_type": "execute_result"
    }
   ],
   "source": [
    "next(z)"
   ]
  },
  {
   "cell_type": "code",
   "execution_count": 13,
   "id": "98442de2-6bb4-4aee-80a4-08796ab716f9",
   "metadata": {},
   "outputs": [
    {
     "data": {
      "text/plain": [
       "53"
      ]
     },
     "execution_count": 13,
     "metadata": {},
     "output_type": "execute_result"
    }
   ],
   "source": [
    "next(y)"
   ]
  },
  {
   "cell_type": "markdown",
   "id": "c527b18b",
   "metadata": {},
   "source": [
    "This example gives you a flavor of how you can write a generator function.  In our lab, you'll take a similar approach to read in batches of images and operate on them without keeping them in memory.  Check out the link at the top of this notebook, it has example of using generators for reading in files."
   ]
  }
 ],
 "metadata": {
  "kernelspec": {
   "display_name": "Python 3",
   "language": "python",
   "name": "python3"
  },
  "language_info": {
   "codemirror_mode": {
    "name": "ipython",
    "version": 3
   },
   "file_extension": ".py",
   "mimetype": "text/x-python",
   "name": "python",
   "nbconvert_exporter": "python",
   "pygments_lexer": "ipython3",
   "version": "3.8.8"
  }
 },
 "nbformat": 4,
 "nbformat_minor": 5
}
