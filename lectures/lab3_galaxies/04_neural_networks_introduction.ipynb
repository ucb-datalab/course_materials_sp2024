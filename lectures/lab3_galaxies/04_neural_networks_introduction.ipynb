{
 "cells": [
  {
   "cell_type": "code",
   "execution_count": 5,
   "metadata": {},
   "outputs": [
    {
     "data": {
      "text/html": [
       "\n",
       "<script src=\"https://stackpath.bootstrapcdn.com/bootstrap/4.3.1/js/bootstrap.min.js\" integrity=\"sha384-JjSmVgyd0p3pXB1rRibZUAYoIIy6OrQ6VrjIEaFf/nJGzIxFDsf4x0xIM+B07jRM\" crossorigin=\"anonymous\"></script>\n",
       "\n",
       "<style>\n",
       "\n",
       "@import url(https://fonts.googleapis.com/css?family=Open+Sans);body{\n",
       "   font-family: 'Open Sans';\n",
       "   font-size: 125%;\n",
       "}\n",
       "\n",
       ".talk_title\n",
       "{\n",
       "  color: #498AF3;\n",
       "  font-size: 275%;\n",
       "  font-weight:bold;\n",
       "  line-height: 1.3; \n",
       "  margin: 10px 50px 10px;\n",
       "  }\n",
       "\n",
       ".subtitle\n",
       "{\n",
       "  color: #386BBC;\n",
       "  font-size: 180%;\n",
       "  font-weight:bold;\n",
       "  line-height: 1.2; \n",
       "  margin: 20px 50px 20px;\n",
       "  }\n",
       "\n",
       ".rendered_html h1\n",
       "{\n",
       "  color: #498AF3;\n",
       "  line-height: 1.2; \n",
       "  margin: 0.15em 0em 0.5em;\n",
       "  page-break-before: always;\n",
       "  text-align: center;\n",
       "  }\n",
       "\n",
       "\n",
       ".center\n",
       "{\n",
       "  text-align: center;\n",
       "  }\n",
       "\n",
       ".nb_link\n",
       "{\n",
       "    padding-bottom: 0.5em;\n",
       "}\n",
       "\n",
       "</style>"
      ],
      "text/plain": [
       "<IPython.core.display.HTML object>"
      ]
     },
     "metadata": {},
     "output_type": "display_data"
    }
   ],
   "source": [
    "%run ../talktools.py"
   ]
  },
  {
   "cell_type": "markdown",
   "metadata": {},
   "source": [
    "# Intro to Neural Networks"
   ]
  },
  {
   "cell_type": "markdown",
   "metadata": {},
   "source": [
    "If you're not using `datahub`, but instead using your laptop, it's a good idea to make sure you've got the most recent ML frameworks. These commands can take awhile so don't do them during lecture time.\n",
    "\n",
    "<pre>\n",
    "pip install -U pydot-ng scikit-learn\n",
    "\n",
    "# TensorFlow & Keras & pytorch\n",
    "conda update -f -c conda-forge keras tensorflow protobuf pytorch\n",
    "</pre>"
   ]
  },
  {
   "cell_type": "markdown",
   "metadata": {},
   "source": [
    "### What are artificial neural networks (ANN)?\n",
    "\n",
    "   - A set of methodologies for doing machine learning\n",
    "   - Collection/composition of simple mathematical functions whose parameterization is *learned* by passing over the data\n",
    "   - Deep Learning is a kind of ANN that has a certain architecture (more later).\n",
    "   \n",
    "### Why do people like it?\n",
    "   - It's \"inspired\" by how the brain is thought to work, so it *feels* like a natural approach. \n",
    "   - It works. Amazingly well. In a growing number of use cases.\n",
    "   - It's composable, so it's \"easy\" to understand each piece.\n",
    "   - Featurizes + learns on \"raw\" data.\n",
    "   - Timely: It's tractable with the data/problems we have and the compute power we have access to.\n",
    "   - New shiny object with codebases getting commoditized (read: easier and easier to use...and free)."
   ]
  },
  {
   "cell_type": "markdown",
   "metadata": {},
   "source": [
    "### Why do people dislike it?\n",
    "   - Decades of hype\n",
    "   - It's considered a black box in a lot of ways\n",
    "   - It can take a ninja to get it right\n",
    "   - It's expensive to run/learn a model\n",
    "   - Not natively adapted to heterogeneous data and certain types of learning\n",
    "   - Not the approach of choice for small/medium data\n",
    "   - Common criticism: results can be challenging to interpret\n"
   ]
  },
  {
   "cell_type": "markdown",
   "metadata": {},
   "source": [
    "<img src=\"http://fastml.com/images/ai/new_navy_device_learns_by_doing.jpg\" width=\"80%\">"
   ]
  },
  {
   "cell_type": "markdown",
   "metadata": {},
   "source": [
    "## The \"Neuron\" (\"Perceptron\")\n",
    "<img src=\"https://www.evernote.com/l/AUVUbm0I38pMWbUhfC0VUZv7qxxguDOy64QB/image.png\">\n",
    "Source: http://www.wsdm-conference.org/2016/slides/WSDM2016-Jeff-Dean.pdf\n",
    "\n",
    "<img width=\"50%\" src=\"http://www.webpages.ttu.edu/dleverin/neural_network/fig_3p6_neurons_NEURON4.jpg\">\n",
    "Source: http://www.webpages.ttu.edu/dleverin/neural_network/neural_networks.html"
   ]
  },
  {
   "cell_type": "markdown",
   "metadata": {},
   "source": [
    "The key is to *learn* the weights $w_i$ given the data. This is done as such:\n",
    "\n",
    "  1. Initialization:\n",
    "      - Set the transfer (e.g. sum) & activation (sigmoid) functions you want to use.\n",
    "      - randomly assign the weights (with some probability distribution)\n",
    "  2. For each instance $i$, run your input $\\vec x_i$ through the network with current weights to get the current output.\n",
    "  3. Determine $\\Delta$ how far off the current output is from the true output/labels.\n",
    "  4. Update the weights by taking the gradient of the activation at $\\vec x_i$ and multiplying by $\\Delta$.\n",
    "  5. Repeat steps 2--5 until you hit a stopping criteria.\n",
    "  \n",
    "This process is an optimization and is called **\"Back Propogation\"** and, if your activation function is differentiable, it's basically a form of gradient descent and reduces to doing simple linear algebra to find the optimimal weights given the data.  It was first presented by Rumelhart, Hinton, Williams ([Nature, 1986](http://www.iro.umontreal.ca/~pift6266/A06/refs/backprop_old.pdf))"
   ]
  },
  {
   "cell_type": "markdown",
   "metadata": {},
   "source": [
    "## Single Layer Network Example"
   ]
  },
  {
   "cell_type": "code",
   "execution_count": 6,
   "metadata": {
    "jupyter": {
     "outputs_hidden": true
    }
   },
   "outputs": [],
   "source": [
    "import numpy as np\n",
    "# input dataset\n",
    "X = np.array([  [0,0,1],\n",
    "                         [0,1,1],\n",
    "                         [1,0,1],\n",
    "                         [1,1,1] ])\n",
    "\n",
    "# output label\n",
    "Y = np.array([[0,0,1,1]]).T"
   ]
  },
  {
   "cell_type": "code",
   "execution_count": 7,
   "metadata": {
    "jupyter": {
     "outputs_hidden": true
    }
   },
   "outputs": [
    {
     "data": {
      "text/plain": [
       "array([[0],\n",
       "       [0],\n",
       "       [1],\n",
       "       [1]])"
      ]
     },
     "execution_count": 7,
     "metadata": {},
     "output_type": "execute_result"
    }
   ],
   "source": [
    "Y"
   ]
  },
  {
   "cell_type": "markdown",
   "metadata": {},
   "source": [
    "<img src=\"https://imiloainf.files.wordpress.com/2013/11/activation_funcs1.png\" width=\"50%\">\n",
    "\n",
    "See: https://en.wikipedia.org/wiki/Activation_function"
   ]
  },
  {
   "cell_type": "code",
   "execution_count": 8,
   "metadata": {
    "jupyter": {
     "outputs_hidden": true
    }
   },
   "outputs": [],
   "source": [
    "def transfer(wx):\n",
    "    \" how to aggregate the weighted inputs \"\n",
    "    return np.sum(wx,axis=1)\n",
    "\n",
    "def activation(twx,func=\"ReLU\",derivative=False):\n",
    "    \" how to treat the sum of the weighted input \"\n",
    "    if func == \"ReLU\":\n",
    "        if derivative:\n",
    "            return np.array([0 if x <= 0 else 1 for x in twx])\n",
    "        return np.array([max(0,x) for x in twx])\n",
    "    \n",
    "    if func == \"sigmoid\":\n",
    "        if derivative:\n",
    "            return np.array([x*(1-x) for x in twx])\n",
    "        return np.array([1/(1+np.exp(-x)) for x in twx])\n",
    "    \n",
    "    if func == \"tanh\":\n",
    "        if derivative:\n",
    "            return np.array([1 - (np.tanh(x))**2 for x in twx])\n",
    "        return np.array([np.tanh(x) for x in twx])\n",
    "    \n",
    "    raise"
   ]
  },
  {
   "cell_type": "code",
   "execution_count": 9,
   "metadata": {
    "jupyter": {
     "outputs_hidden": true
    }
   },
   "outputs": [
    {
     "data": {
      "text/plain": [
       "array([[-0.25091976],\n",
       "       [ 0.90142861],\n",
       "       [ 0.46398788]])"
      ]
     },
     "execution_count": 9,
     "metadata": {},
     "output_type": "execute_result"
    }
   ],
   "source": [
    "np.random.seed(42)\n",
    "weights_initial = 2*np.random.random((3,1)) - 1\n",
    "weights_initial"
   ]
  },
  {
   "cell_type": "code",
   "execution_count": 10,
   "metadata": {
    "jupyter": {
     "outputs_hidden": true
    }
   },
   "outputs": [],
   "source": [
    "rms_error = {\"tanh\": [], \"sigmoid\": []}\n",
    "\n",
    "for func in [\"tanh\", \"sigmoid\"]:\n",
    "\n",
    "    weights = weights_initial.copy()\n",
    "\n",
    "    for _ in range(10000):\n",
    "        # forward propagation\n",
    "        layer0 = X\n",
    "        sum_of_weighted_X = transfer(layer0*weights.T)\n",
    "        layer1 = activation(sum_of_weighted_X, func=func)\n",
    "\n",
    "        # how much did we miss?\n",
    "        layer1_error = Y.T - layer1\n",
    "\n",
    "        rms_error[func].append(np.sqrt((layer1_error**2).sum()))\n",
    "        # multiply how much we missed by the\n",
    "        # slope of the activation at the values in layer1\n",
    "        layer1_delta = layer1_error * activation(layer1,derivative=True)\n",
    "\n",
    "        weights += np.dot(layer1_delta, layer0).T"
   ]
  },
  {
   "cell_type": "code",
   "execution_count": 11,
   "metadata": {
    "jupyter": {
     "outputs_hidden": true
    }
   },
   "outputs": [],
   "source": [
    "%matplotlib inline\n",
    "import matplotlib.pyplot as plt\n",
    "import seaborn as sns\n",
    "sns.set_context(\"poster\")"
   ]
  },
  {
   "cell_type": "code",
   "execution_count": 12,
   "metadata": {
    "jupyter": {
     "outputs_hidden": true
    }
   },
   "outputs": [
    {
     "data": {
      "text/plain": [
       "Text(0.5, 1.0, 'Single Layer NN')"
      ]
     },
     "execution_count": 12,
     "metadata": {},
     "output_type": "execute_result"
    },
    {
     "data": {
      "image/png": "[encoded data removed]",
      "text/plain": [
       "<Figure size 432x432 with 1 Axes>"
      ]
     },
     "metadata": {
      "needs_background": "light"
     },
     "output_type": "display_data"
    }
   ],
   "source": [
    "plt.figure(figsize=(6,6))\n",
    "\n",
    "plt.plot(rms_error[\"sigmoid\"],label=\"sigmoid\")\n",
    "plt.plot(rms_error[\"tanh\"],label=\"tanh\")\n",
    "\n",
    "plt.xscale(\"symlog\")\n",
    "plt.yscale(\"log\")\n",
    "plt.ylabel(\"RMS Error\")\n",
    "plt.xlabel(\"Generation\")\n",
    "plt.legend()\n",
    "plt.title(\"Single Layer NN\")"
   ]
  },
  {
   "cell_type": "markdown",
   "metadata": {},
   "source": [
    "Note we updated the weights at each pass by using all the instances (this is called \"batch learning\"). There are speed ups (but generally noisier learning) by randomly choosing a subset of the data at each iteration (\"stochastic learning\").\n",
    "\n",
    "See [LeCun, Bottou, Orr, & Muller 1998](http://yann.lecun.com/exdb/publis/pdf/lecun-98b.pdf) for more info."
   ]
  },
  {
   "cell_type": "markdown",
   "metadata": {},
   "source": [
    "## Multi-Layer Networks\n",
    "\n",
    "Multilayer networks are not really any different. They have more weights to learn but they may also represent more complex models. Backpropogation optimization still works, this time by using the chain rule. That is, optimization is multi-step but it's  local to individual layers (this makes the problem tractable).\n",
    "\n",
    "<img src=\"http://scikit-learn.org/stable/_images/multilayerperceptron_network.png\" width=\"50%\">\n",
    "\n",
    "The above network is said to have a hidden layer, which is neither an input nor an output layer."
   ]
  },
  {
   "cell_type": "markdown",
   "metadata": {},
   "source": [
    "[multi-layer neural nets in the Browser]( http://playground.tensorflow.org/#activation=tanh&batchSize=10&dataset=circle&regDataset=reg-plane&learningRate=0.03&regularizationRate=0&noise=0&networkShape=4,2&seed=0.65948&showTestData=false&discretize=false&percTrainData=50&x=true&y=true&xTimesY=false&xSquared=false&ySquared=false&cosX=false&sinX=false&cosY=false&sinY=false&collectStats=false&problem=classification&initZero=false&hideText=false)"
   ]
  },
  {
   "cell_type": "code",
   "execution_count": null,
   "metadata": {
    "tags": []
   },
   "outputs": [],
   "source": []
  }
 ],
 "metadata": {
  "kernelspec": {
   "display_name": "Python 3",
   "language": "python",
   "name": "python3"
  },
  "language_info": {
   "codemirror_mode": {
    "name": "ipython",
    "version": 3
   },
   "file_extension": ".py",
   "mimetype": "text/x-python",
   "name": "python",
   "nbconvert_exporter": "python",
   "pygments_lexer": "ipython3",
   "version": "3.8.8"
  }
 },
 "nbformat": 4,
 "nbformat_minor": 4
}
