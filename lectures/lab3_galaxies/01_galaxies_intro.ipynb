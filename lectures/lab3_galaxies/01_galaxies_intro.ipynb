{
 "cells": [
  {
   "cell_type": "code",
   "execution_count": 1,
   "metadata": {},
   "outputs": [
    {
     "data": {
      "text/html": [
       "\n",
       "<script src=\"https://stackpath.bootstrapcdn.com/bootstrap/4.3.1/js/bootstrap.min.js\" integrity=\"sha384-JjSmVgyd0p3pXB1rRibZUAYoIIy6OrQ6VrjIEaFf/nJGzIxFDsf4x0xIM+B07jRM\" crossorigin=\"anonymous\"></script>\n",
       "\n",
       "<style>\n",
       "\n",
       "@import url(https://fonts.googleapis.com/css?family=Open+Sans);body{\n",
       "   font-family: 'Open Sans';\n",
       "   font-size: 125%;\n",
       "}\n",
       "\n",
       ".talk_title\n",
       "{\n",
       "  color: #498AF3;\n",
       "  font-size: 275%;\n",
       "  font-weight:bold;\n",
       "  line-height: 1.3; \n",
       "  margin: 10px 50px 10px;\n",
       "  }\n",
       "\n",
       ".subtitle\n",
       "{\n",
       "  color: #386BBC;\n",
       "  font-size: 180%;\n",
       "  font-weight:bold;\n",
       "  line-height: 1.2; \n",
       "  margin: 20px 50px 20px;\n",
       "  }\n",
       "\n",
       ".rendered_html h1\n",
       "{\n",
       "  color: #498AF3;\n",
       "  line-height: 1.2; \n",
       "  margin: 0.15em 0em 0.5em;\n",
       "  page-break-before: always;\n",
       "  text-align: center;\n",
       "  }\n",
       "\n",
       "\n",
       ".center\n",
       "{\n",
       "  text-align: center;\n",
       "  }\n",
       "\n",
       ".nb_link\n",
       "{\n",
       "    padding-bottom: 0.5em;\n",
       "}\n",
       "\n",
       "</style>"
      ],
      "text/plain": [
       "<IPython.core.display.HTML object>"
      ]
     },
     "metadata": {},
     "output_type": "display_data"
    }
   ],
   "source": [
    "%run ../talktools.py"
   ]
  },
  {
   "cell_type": "markdown",
   "metadata": {},
   "source": [
    "# A Brief Intro to Galaxies\n",
    "### (UCB Astro Datalab 2024)\n",
    "\n",
    "## Galaxies\n",
    "\n",
    "* A galaxy is a gravitationally bound system of stars, stellar remnnants, dust, gas, and dark matter\n",
    "* There are estimated to be ~2 trillion galaxies in the observable Universe.\n",
    "\n",
    "## The Milky Way\n",
    "\n",
    "* We live in a galaxy \"The Milky Way\"\n",
    "* Charcteristic distances in the MW (and other galaxies) are pc and kpc\n",
    "\n",
    "<img src=\"figs/gaia_mw.jpg\" width=900 height=900></img>"
   ]
  },
  {
   "cell_type": "markdown",
   "metadata": {},
   "source": [
    "## The Local Group\n",
    "\n",
    "* The Milky Way resides in the \"Local Group\"\n",
    "* Two biggest Local Group galaxies are the MW and M31 (Andromeda)\n",
    "* There are about 100 known smaller galaxies; the smallest are ~10 million times less massive (in stars) than the MW\n",
    "* Charcteristic distances to other Local Group galaxies are kpc and Mpc\n",
    "\n",
    "<img src=\"figs/lg_image.jpg\" width=900 height=900></img>"
   ]
  },
  {
   "cell_type": "markdown",
   "metadata": {},
   "source": [
    "## The Local Volume\n",
    "\n",
    "* The Local Group lives in a \"typical\" (or maybe slighly lower than average density) region of the Universe called the Local Volume\n",
    "* The size of the Local Volume is ~10 Mpc in radius\n",
    "* There are >1000s of galaxies in the Local Volume\n",
    "\n",
    "<img src=\"figs/lvl_bw.jpg\" width=600 height=600></img>\n",
    "\n"
   ]
  },
  {
   "cell_type": "markdown",
   "metadata": {},
   "source": [
    "## The Low Redshift Universe\n",
    "* At some point distances start being measured in terms of redshifts\n",
    "* This is due the something called the \"Hubble Flow\"; if you look at sufficiently distant galaxies, their distances and velocities can be related by Hubble's Law\n",
    "* The terminology \"low redshift\" means nearby (or recent in terms of cosmic time) Universe, whereas \"high redshift\" means the very distant (or very early Universe)\n",
    "<img src=\"figs/2dF_galaxies.png\" width=600 height=600></img>"
   ]
  },
  {
   "cell_type": "markdown",
   "metadata": {},
   "source": [
    "## Galaxies Have Personalities or \"Morphologies\"\n",
    "* Morphological classification divides galaxies into groups based on their visual appearance. \n",
    "\n",
    "<img src=\"figs/galaxy_poster.jpg\" width=600 height=600></img>"
   ]
  },
  {
   "cell_type": "markdown",
   "metadata": {},
   "source": [
    "## Hubble Tuning Fork\n",
    "* Proposed by Edwin Hubble (of Hubble Constant fame) as a way to understand the evolution of galaxies\n",
    "<img src=\"figs/HubbleTuningFork.jpg\" width=600 height=600></img>\n",
    "* 4 types of galaxies\n",
    " - __Ellpitcal (\"E\")__: smooth, featureless light distributions and appear as ellipses in images (denoted by an \"E\")\n",
    "  - __Spiral (\"S\")__: flattened disk, with stars forming a spiral structure. A central concentration of stars known as the bulge, which is similar in appearance to an elliptical galaxy.  About half of all spiral galaxies appear to have a bar in the central region (denoted by an \"SB\") \n",
    " - __Lenticular \"S0\"__: bright central bulge surrounded by an extended, disk-like structure. Unlike spiral galaxies, the disks of lenticular galaxies have no visible spiral structure and are not actively forming stars in any significant quantity.  (denoted by as \"S0\" galaxies)\n",
    " - __Irregular (\"Irr\")__: Galaxies that don't fit into the above categories (i.e., no obvious elliptical or spiral structure)"
   ]
  },
  {
   "cell_type": "markdown",
   "metadata": {},
   "source": [
    "## De Vaucouleurs system\n",
    "* An expansion of Hubble's system by Gerard De Vaucouleurs (starting in 1959)\n",
    "* __Bars__: Presence or absence of a bar. \"SA\" refers spiral galaxies without bars, \"SB\" for galaxies with bars (this was Hubble's usage).  Weakly barred \"SAB\".\n",
    "* __Rings__: Galaxies with rings 'r'; galaxies without rings 's'\n",
    "* __Spiral Arms__: based on the tightness of their spiral arm:\n",
    " - Sd (SBd): diffuse, broken arms made up of individual stellar clusters and nebulae; very faint central bulge\n",
    " - Sm (SBm): irregular appearance; no bulge\n",
    " - Im: Highly irregular apperance"
   ]
  },
  {
   "cell_type": "markdown",
   "metadata": {},
   "source": [
    "## How do we classify millions/billions/trillions of galaxies?\n",
    "* Classification used to be done by experts' visual inspection\n",
    "* Galaxy Zoo launched in the 2000s.  Largest catalog ~15,000.\n",
    " - Used a web platform and citizen scientists to classify ~300,000 galaxies\n",
    " - You will learn all about Galaxy Zoo in this lab\n",
    "* What about machine learning for classification?  \n",
    " - You will also learn about that in this lab\n",
    " - sky's the limit?\n",
    "* Pros and cons to each approach"
   ]
  },
  {
   "cell_type": "markdown",
   "metadata": {},
   "source": [
    "## Galaxy Mergers\n",
    "* In our current cosmological paradigm, the Universe is ~75% dark energy and ~25% matter.\n",
    "* Called Lambda Cold Dark Matter (or LCDM or $\\Lambda$CDM)\n",
    "* In the early Universe there was a lot of free floating hot gas and dark matter \"halos\"\n",
    "* Dark matter only interacts through gravity\n",
    "* Gravity from the dark matter halos pulled the gas into the halos, eventually forming stars (i.e., a galaxy was born).\n",
    "* Gravity also caused dark matter halos and galaxies to merge with each other\n",
    "* Galaxies we see today (like our Milky Way) are all thought to be the products of galaxy mergers over cosmic history\n",
    "* Studying mergers is one way to piece together the cosmic history of galaxies\n",
    "* Finding merging galaxies at different points in cosmic time (aka \"redshifts\") is a key part of this puzzle\n",
    "<img src=\"figs/NGC4676.jpg\" width=600 height=600></img>"
   ]
  },
  {
   "cell_type": "code",
   "execution_count": null,
   "metadata": {},
   "outputs": [],
   "source": []
  }
 ],
 "metadata": {
  "kernelspec": {
   "display_name": "Python 3",
   "language": "python",
   "name": "python3"
  },
  "language_info": {
   "codemirror_mode": {
    "name": "ipython",
    "version": 3
   },
   "file_extension": ".py",
   "mimetype": "text/x-python",
   "name": "python",
   "nbconvert_exporter": "python",
   "pygments_lexer": "ipython3",
   "version": "3.8.8"
  }
 },
 "nbformat": 4,
 "nbformat_minor": 2
}
